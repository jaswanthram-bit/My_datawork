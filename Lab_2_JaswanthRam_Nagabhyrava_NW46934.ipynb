{
 "cells": [
  {
   "cell_type": "code",
   "execution_count": null,
   "id": "e47ce7ff",
   "metadata": {},
   "outputs": [],
   "source": [
    "\n",
    "import pandas as pd\n",
    "import numpy as np\n",
    "\n",
    "# Step 1: Load the dataset (replace 'your_dataset.csv' with the actual file path)\n",
    "df = pd.read_csv('breast_cancer.csv')\n",
    "\n",
    "# Step 2: Initialize an empty list to store column information\n",
    "profile_data = []\n",
    "\n",
    "# Iterate through columns\n",
    "for col in df.columns:\n",
    "    # Get data type\n",
    "    data_type = df[col].dtype\n",
    "    \n",
    "    # Get unique values (if column contains non-numeric data, set to NaN)\n",
    "    unique_values = df[col].nunique() if np.issubdtype(data_type, np.number) else np.nan\n",
    "    \n",
    "    # Get min (if column contains numeric data)\n",
    "    min_val = df[col].min() if np.issubdtype(data_type, np.number) else np.nan\n",
    "    \n",
    "    # Get max (if column contains numeric data)\n",
    "    max_val = df[col].max() if np.issubdtype(data_type, np.number) else np.nan\n",
    "    \n",
    "    # Append the information to the profile_data list\n",
    "    profile_data.append([col, str(data_type), unique_values, min_val, max_val])\n",
    "\n",
    "# Step 3: Create a DataFrame with the profile data\n",
    "profile_df = pd.DataFrame(profile_data, columns=['Column Name', 'Data Type', 'Unique Values', 'Min', 'Max'])\n",
    "\n",
    "# Display the profile table\n",
    "print(profile_df)\n"
   ]
  },
  {
   "cell_type": "code",
   "execution_count": 5,
   "id": "0bbae387",
   "metadata": {},
   "outputs": [
    {
     "name": "stdout",
     "output_type": "stream",
     "text": [
      "                    Column Name Data Type  Unique Values      Min         Max\n",
      "0                   Sample code     int64            645  61634.0  13454352.0\n",
      "1               Clump Thickness     int64             10      1.0        10.0\n",
      "2       Uniformity of Cell Size     int64             10      1.0        10.0\n",
      "3      Uniformity of Cell Shape     int64             10      1.0        10.0\n",
      "4             Marginal Adhesion     int64             10      1.0        10.0\n",
      "5   Single Epithelial Cell Size     int64             10      1.0        10.0\n",
      "6                   Bare Nuclei    object             11      NaN         NaN\n",
      "7               Bland Chromatin     int64             10      1.0        10.0\n",
      "8               Normal Nucleoli     int64             10      1.0        10.0\n",
      "9                       Mitoses     int64              9      1.0        10.0\n",
      "10                        Class     int64              2      2.0         4.0\n"
     ]
    }
   ],
   "source": [
    "import pandas as pd\n",
    "\n",
    "# Step 1: Load the dataset (replace 'your_dataset.csv' with the actual file path)\n",
    "df = pd.read_csv('breast_cancer.csv')\n",
    "\n",
    "# Step 2: Initialize an empty list to store column information\n",
    "profile_data = []\n",
    "\n",
    "# Iterate through columns\n",
    "for col in df.columns:\n",
    "    # Get data type\n",
    "    data_type = df[col].dtype\n",
    "    \n",
    "    # Get unique values\n",
    "    unique_values = df[col].nunique()\n",
    "    \n",
    "    # Get min (if column contains numeric data)\n",
    "    min_val = df[col].min() if pd.api.types.is_numeric_dtype(data_type) else None\n",
    "    \n",
    "    # Get max (if column contains numeric data)\n",
    "    max_val = df[col].max() if pd.api.types.is_numeric_dtype(data_type) else None\n",
    "    \n",
    "    # Append the information to the profile_data list\n",
    "    profile_data.append([col, str(data_type), unique_values, min_val, max_val])\n",
    "\n",
    "# Step 3: Create a DataFrame with the profile data\n",
    "profile_df = pd.DataFrame(profile_data, columns=['Column Name', 'Data Type', 'Unique Values', 'Min', 'Max'])\n",
    "\n",
    "# Display the profile table\n",
    "print(profile_df)\n"
   ]
  },
  {
   "cell_type": "code",
   "execution_count": 17,
   "id": "3add11f2",
   "metadata": {},
   "outputs": [
    {
     "name": "stdout",
     "output_type": "stream",
     "text": [
      "           Column Name Data Type  Unique Values     Min         Max\n",
      "0            work_year     int64              4  2020.0      2023.0\n",
      "1     experience_level    object              4     NaN         NaN\n",
      "2      employment_type    object              4     NaN         NaN\n",
      "3            job_title    object             93     NaN         NaN\n",
      "4               salary     int64            815  6000.0  30400000.0\n",
      "5      salary_currency    object             20     NaN         NaN\n",
      "6        salary_in_usd     int64           1035  5132.0    450000.0\n",
      "7   employee_residence    object             78     NaN         NaN\n",
      "8         remote_ratio     int64              3     0.0       100.0\n",
      "9     company_location    object             72     NaN         NaN\n",
      "10        company_size    object              3     NaN         NaN\n"
     ]
    }
   ],
   "source": [
    "import pandas as pd\n",
    "\n",
    "# Step 1: Load the dataset (replace 'your_dataset.csv' with the actual file path)\n",
    "df = pd.read_csv('ds_salaries.csv')\n",
    "\n",
    "# Step 2: Initialize an empty list to store column information\n",
    "profile_data = []\n",
    "\n",
    "# Iterate through columns\n",
    "for col in df.columns:\n",
    "    # Get data type\n",
    "    data_type = df[col].dtype\n",
    "    \n",
    "    # Get unique values\n",
    "    unique_values = df[col].nunique()\n",
    "    \n",
    "    # Get min (if column contains numeric data)\n",
    "    min_val = df[col].min() if pd.api.types.is_numeric_dtype(data_type) else None\n",
    "    \n",
    "    # Get max (if column contains numeric data)\n",
    "    max_val = df[col].max() if pd.api.types.is_numeric_dtype(data_type) else None\n",
    "    \n",
    "    # Append the information to the profile_data list\n",
    "    profile_data.append([col, str(data_type), unique_values, min_val, max_val])\n",
    "\n",
    "# Step 3: Create a DataFrame with the profile data\n",
    "profile_df = pd.DataFrame(profile_data, columns=['Column Name', 'Data Type', 'Unique Values', 'Min', 'Max'])\n",
    "\n",
    "# Display the profile table\n",
    "print(profile_df)\n"
   ]
  },
  {
   "cell_type": "code",
   "execution_count": 20,
   "id": "5e1d57d8",
   "metadata": {},
   "outputs": [
    {
     "name": "stdout",
     "output_type": "stream",
     "text": [
      "Total number of attributes: 11\n"
     ]
    }
   ],
   "source": [
    "# Get the shape of the DataFrame\n",
    "total_attributes = profile_df.shape[0]\n",
    "\n",
    "print(f'Total number of attributes: {total_attributes}')\n"
   ]
  },
  {
   "cell_type": "code",
   "execution_count": 21,
   "id": "69eb582a",
   "metadata": {},
   "outputs": [
    {
     "name": "stdout",
     "output_type": "stream",
     "text": [
      "Total number of numerical attributes: 4\n",
      "Total number of discrete attributes: 7\n",
      "Discrete attributes count (excluding numerical attributes): 3\n"
     ]
    }
   ],
   "source": [
    "\n",
    "# Step 1: Find the number of numerical attributes\n",
    "numerical_attributes = profile_df[profile_df['Data Type'].isin(['int64', 'float64'])]\n",
    "num_numerical_attributes = len(numerical_attributes)\n",
    "\n",
    "# Step 2: Find the number of discrete attributes\n",
    "discrete_attributes = profile_df[~profile_df['Data Type'].isin(['int64', 'float64'])]\n",
    "num_discrete_attributes = len(discrete_attributes)\n",
    "\n",
    "# Display the results\n",
    "print(f'Total number of numerical attributes: {num_numerical_attributes}')\n",
    "print(f'Total number of discrete attributes: {num_discrete_attributes}')\n",
    "print(f'Discrete attributes count (excluding numerical attributes): {num_discrete_attributes - num_numerical_attributes}')\n"
   ]
  },
  {
   "cell_type": "code",
   "execution_count": 22,
   "id": "5cd97941",
   "metadata": {},
   "outputs": [
    {
     "name": "stdout",
     "output_type": "stream",
     "text": [
      "Total number of numerical attributes: 4\n",
      "Discrete attributes count (excluding numerical attributes): 7\n"
     ]
    }
   ],
   "source": [
    "# Step 1: Find the number of numerical attributes\n",
    "numerical_attributes = profile_df[profile_df['Data Type'].isin(['int64', 'float64'])]\n",
    "num_numerical_attributes = len(numerical_attributes)\n",
    "\n",
    "# Step 2: Find the number of discrete attributes (excluding numerical attributes)\n",
    "discrete_attributes = profile_df[~profile_df['Data Type'].isin(['int64', 'float64'])]\n",
    "num_discrete_attributes = len(discrete_attributes)\n",
    "\n",
    "# Display the results\n",
    "print(f'Total number of numerical attributes: {num_numerical_attributes}')\n",
    "print(f'Discrete attributes count (excluding numerical attributes): {num_discrete_attributes}')\n"
   ]
  },
  {
   "cell_type": "code",
   "execution_count": 23,
   "id": "92285c5e",
   "metadata": {},
   "outputs": [
    {
     "name": "stdout",
     "output_type": "stream",
     "text": [
      "Total number of available work years: 4\n"
     ]
    }
   ],
   "source": [
    "import pandas as pd\n",
    "\n",
    "# Step 1: Load the dataset (replace 'your_dataset.csv' with the actual file path)\n",
    "df = pd.read_csv('ds_salaries.csv')\n",
    "\n",
    "# Step 2: Get the unique work years\n",
    "unique_work_years = df['work_year'].unique()\n",
    "\n",
    "# Step 3: Find the total number of available work years\n",
    "total_work_years = len(unique_work_years)\n",
    "\n",
    "print(f'Total number of available work years: {total_work_years}')\n"
   ]
  },
  {
   "cell_type": "code",
   "execution_count": 24,
   "id": "fe0a258b",
   "metadata": {},
   "outputs": [
    {
     "name": "stdout",
     "output_type": "stream",
     "text": [
      "Unique Work Years:\n",
      "2023\n",
      "2022\n",
      "2020\n",
      "2021\n"
     ]
    }
   ],
   "source": [
    "import pandas as pd\n",
    "\n",
    "# Step 1: Load the dataset (replace 'your_dataset.csv' with the actual file path)\n",
    "df = pd.read_csv('ds_salaries.csv')\n",
    "\n",
    "# Step 2: Get the unique work years\n",
    "unique_work_years = df['work_year'].unique()\n",
    "\n",
    "# Step 3: Display the unique work years\n",
    "print(\"Unique Work Years:\")\n",
    "for year in unique_work_years:\n",
    "    print(year)\n"
   ]
  },
  {
   "cell_type": "code",
   "execution_count": 26,
   "id": "db31803b",
   "metadata": {},
   "outputs": [
    {
     "name": "stdout",
     "output_type": "stream",
     "text": [
      "Total number of available employment types: 4\n"
     ]
    }
   ],
   "source": [
    "import pandas as pd\n",
    "\n",
    "# Step 1: Load the dataset (replace 'your_dataset.csv' with the actual file path)\n",
    "df = pd.read_csv('ds_salaries.csv')\n",
    "\n",
    "# Step 2: Get the unique employment types\n",
    "unique_employment_types = df['employment_type'].unique()\n",
    "\n",
    "# Step 3: Find the total number of available employment types\n",
    "total_employment_types = len(unique_employment_types)\n",
    "\n",
    "print(f'Total number of available employment types: {total_employment_types}')\n",
    "\n"
   ]
  },
  {
   "cell_type": "code",
   "execution_count": 27,
   "id": "489a2f9d",
   "metadata": {},
   "outputs": [
    {
     "name": "stdout",
     "output_type": "stream",
     "text": [
      "Employment Type Counts:\n",
      "FT    3718\n",
      "PT      17\n",
      "CT      10\n",
      "FL      10\n",
      "Name: employment_type, dtype: int64\n"
     ]
    }
   ],
   "source": [
    "import pandas as pd\n",
    "\n",
    "# Step 1: Load the dataset (replace 'your_dataset.csv' with the actual file path)\n",
    "df = pd.read_csv('ds_salaries.csv')\n",
    "\n",
    "# Step 2: Get the count of each employment type\n",
    "employment_type_counts = df['employment_type'].value_counts()\n",
    "\n",
    "# Step 3: Display the count of each employment type\n",
    "print(\"Employment Type Counts:\")\n",
    "print(employment_type_counts)\n"
   ]
  },
  {
   "cell_type": "code",
   "execution_count": 29,
   "id": "7c708cef",
   "metadata": {},
   "outputs": [
    {
     "data": {
      "image/png": "[encoded data removed]",
      "text/plain": [
       "<Figure size 1000x600 with 1 Axes>"
      ]
     },
     "metadata": {},
     "output_type": "display_data"
    }
   ],
   "source": [
    "import pandas as pd\n",
    "import matplotlib.pyplot as plt\n",
    "\n",
    "# Step 1: Load the dataset (replace 'your_dataset.csv' with the actual file path)\n",
    "df = pd.read_csv('ds_salaries.csv')\n",
    "\n",
    "# Step 2: Group data by 'work_year' and 'employment_type' and count occurrences\n",
    "grouped_data = df.groupby(['work_year', 'employment_type']).size().reset_index(name='count')\n",
    "\n",
    "# Step 3: Create a bar plot\n",
    "plt.figure(figsize=(10, 6))\n",
    "\n",
    "# Iterate over unique employment types\n",
    "for employment_type in grouped_data['employment_type'].unique():\n",
    "    subset = grouped_data[grouped_data['employment_type'] == employment_type]\n",
    "    plt.bar(subset['work_year'], subset['count'], label=employment_type)\n",
    "\n",
    "plt.xlabel('Work Year')\n",
    "plt.ylabel('Count')\n",
    "plt.title('Work Years vs Employment Type')\n",
    "plt.legend()\n",
    "plt.show()\n"
   ]
  },
  {
   "cell_type": "code",
   "execution_count": 30,
   "id": "78dd3a00",
   "metadata": {},
   "outputs": [
    {
     "name": "stdout",
     "output_type": "stream",
     "text": [
      "Total number of unique company locations: 72\n"
     ]
    }
   ],
   "source": [
    "import pandas as pd\n",
    "\n",
    "# Step 1: Load the dataset (replace 'your_dataset.csv' with the actual file path)\n",
    "df = pd.read_csv('ds_salaries.csv')\n",
    "\n",
    "# Step 2: Get the unique company locations\n",
    "unique_locations = df['company_location'].unique()\n",
    "\n",
    "# Step 3: Find the total number of unique company locations\n",
    "total_locations = len(unique_locations)\n",
    "\n",
    "print(f'Total number of unique company locations: {total_locations}')\n"
   ]
  },
  {
   "cell_type": "code",
   "execution_count": 32,
   "id": "aa68f066",
   "metadata": {},
   "outputs": [
    {
     "data": {
      "image/png": "[encoded data removed]",
      "text/plain": [
       "<Figure size 1000x600 with 1 Axes>"
      ]
     },
     "metadata": {},
     "output_type": "display_data"
    }
   ],
   "source": [
    "import pandas as pd\n",
    "import matplotlib.pyplot as plt\n",
    "\n",
    "# Step 1: Load the dataset (replace 'your_dataset.csv' with the actual file path)\n",
    "df = pd.read_csv('ds_salaries.csv')\n",
    "\n",
    "# Step 2: Group data by 'experience_level' and 'employment_type' and count occurrences\n",
    "grouped_data = df.groupby(['experience_level', 'employment_type']).size().reset_index(name='count')\n",
    "\n",
    "# Step 3: Create a bar plot\n",
    "plt.figure(figsize=(10, 6))\n",
    "\n",
    "# Iterate over unique employment types\n",
    "for employment_type in grouped_data['employment_type'].unique():\n",
    "    subset = grouped_data[grouped_data['employment_type'] == employment_type]\n",
    "    plt.bar(subset['experience_level'], subset['count'], label=employment_type)\n",
    "\n",
    "plt.xlabel('Experience Level')\n",
    "plt.ylabel('Count')\n",
    "plt.title('Experience Level vs Employment Type')\n",
    "plt.legend(loc='upper right')\n",
    "plt.xticks(rotation=45)\n",
    "plt.show()\n",
    "\n"
   ]
  },
  {
   "cell_type": "code",
   "execution_count": 33,
   "id": "8153dd21",
   "metadata": {},
   "outputs": [
    {
     "name": "stdout",
     "output_type": "stream",
     "text": [
      "Number of null values for each column:\n",
      "work_year             0\n",
      "experience_level      0\n",
      "employment_type       0\n",
      "job_title             0\n",
      "salary                0\n",
      "salary_currency       0\n",
      "salary_in_usd         0\n",
      "employee_residence    0\n",
      "remote_ratio          0\n",
      "company_location      0\n",
      "company_size          0\n",
      "dtype: int64\n"
     ]
    }
   ],
   "source": [
    "import pandas as pd\n",
    "\n",
    "# Step 1: Load the dataset (replace 'your_dataset.csv' with the actual file path)\n",
    "df = pd.read_csv('ds_salaries.csv')\n",
    "\n",
    "# Step 2: Find the number of null values for each column\n",
    "null_counts = df.isna().sum()\n",
    "\n",
    "print(\"Number of null values for each column:\")\n",
    "print(null_counts)\n"
   ]
  },
  {
   "cell_type": "code",
   "execution_count": 34,
   "id": "0f1deb02",
   "metadata": {},
   "outputs": [
    {
     "name": "stdout",
     "output_type": "stream",
     "text": [
      "Total number of missing values in the dataset: 0\n"
     ]
    }
   ],
   "source": [
    "import pandas as pd\n",
    "\n",
    "# Step 1: Load the dataset (replace 'your_dataset.csv' with the actual file path)\n",
    "df = pd.read_csv('ds_salaries.csv')\n",
    "\n",
    "# Step 2: Find the total number of missing values in the dataset\n",
    "total_missing_values = df.isna().sum().sum()\n",
    "\n",
    "print(f'Total number of missing values in the dataset: {total_missing_values}')\n",
    "\n"
   ]
  },
  {
   "cell_type": "code",
   "execution_count": 35,
   "id": "54272065",
   "metadata": {},
   "outputs": [
    {
     "name": "stdout",
     "output_type": "stream",
     "text": [
      "Total number of duplicate rows in the dataset: 1171\n"
     ]
    }
   ],
   "source": [
    "import pandas as pd\n",
    "\n",
    "# Step 1: Load the dataset (replace 'your_dataset.csv' with the actual file path)\n",
    "df = pd.read_csv('ds_salaries.csv')\n",
    "\n",
    "# Step 2: Find the total number of duplicate rows in the dataset\n",
    "total_duplicates = df.duplicated().sum()\n",
    "\n",
    "print(f'Total number of duplicate rows in the dataset: {total_duplicates}')\n"
   ]
  },
  {
   "cell_type": "code",
   "execution_count": 41,
   "id": "8415fa38",
   "metadata": {},
   "outputs": [],
   "source": [
    "import pandas as pd\n",
    "\n",
    "# Step 1: Load the dataset (replace 'your_dataset.csv' with the actual file path)\n",
    "df = pd.read_csv('ds_salaries.csv')\n",
    "\n",
    "# Step 2: Drop duplicate rows\n",
    "df_cleaned = df.drop_duplicates()\n",
    "\n",
    "# Now df_cleaned contains the dataset with duplicates removed\n"
   ]
  },
  {
   "cell_type": "code",
   "execution_count": 43,
   "id": "2b4089be",
   "metadata": {},
   "outputs": [
    {
     "name": "stdout",
     "output_type": "stream",
     "text": [
      "Shape of the dataset after dropping duplicates: (2584, 11)\n"
     ]
    }
   ],
   "source": [
    "import pandas as pd\n",
    "\n",
    "# Step 1: Load the dataset (replace 'your_dataset.csv' with the actual file path)\n",
    "df = pd.read_csv('ds_salaries.csv')\n",
    "\n",
    "# Step 2: Drop duplicate rows\n",
    "df_cleaned = df.drop_duplicates()\n",
    "\n",
    "# Step 3: Find the shape of the cleaned dataset\n",
    "shape_after_dropping_duplicates = df_cleaned.shape\n",
    "\n",
    "print(f'Shape of the dataset after dropping duplicates: {shape_after_dropping_duplicates}')\n",
    "\n"
   ]
  },
  {
   "cell_type": "code",
   "execution_count": 37,
   "id": "747d51ed",
   "metadata": {},
   "outputs": [],
   "source": []
  }
 ],
 "metadata": {
  "kernelspec": {
   "display_name": "Python 3 (ipykernel)",
   "language": "python",
   "name": "python3"
  },
  "language_info": {
   "codemirror_mode": {
    "name": "ipython",
    "version": 3
   },
   "file_extension": ".py",
   "mimetype": "text/x-python",
   "name": "python",
   "nbconvert_exporter": "python",
   "pygments_lexer": "ipython3",
   "version": "3.11.4"
  }
 },
 "nbformat": 4,
 "nbformat_minor": 5
}
